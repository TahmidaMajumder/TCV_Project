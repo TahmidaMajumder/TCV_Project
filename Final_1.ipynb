{
  "cells": [
    {
      "cell_type": "markdown",
      "metadata": {
        "id": "view-in-github",
        "colab_type": "text"
      },
      "source": [
        "<a href=\"https://colab.research.google.com/github/TahmidaMajumder/TCV_Project/blob/main/Final_1.ipynb\" target=\"_parent\"><img src=\"https://colab.research.google.com/assets/colab-badge.svg\" alt=\"Open In Colab\"/></a>"
      ]
    },
    {
      "cell_type": "code",
      "execution_count": 1,
      "metadata": {
        "colab": {
          "base_uri": "https://localhost:8080/"
        },
        "id": "uFY1ZEjA5JGG",
        "outputId": "d69f90c3-5c8a-4629-d08d-66970d4882e4"
      },
      "outputs": [
        {
          "output_type": "stream",
          "name": "stdout",
          "text": [
            "Mounted at /content/drive\n"
          ]
        }
      ],
      "source": [
        "from google.colab import drive\n",
        "drive.mount('/content/drive')"
      ]
    },
    {
      "cell_type": "markdown",
      "source": [
        "# 1. Import Libraries"
      ],
      "metadata": {
        "id": "VQoqdVyxvkXA"
      }
    },
    {
      "cell_type": "code",
      "execution_count": 28,
      "metadata": {
        "id": "U-U3vZOFKYRH"
      },
      "outputs": [],
      "source": [
        "import os\n",
        "import h5py\n",
        "import cv2\n",
        "import numpy as np\n",
        "import matplotlib.pyplot as plt\n",
        "from PIL import Image\n",
        "import seaborn as sns\n",
        "import h5py\n",
        "\n",
        "from sklearn.metrics import confusion_matrix, classification_report\n",
        "from sklearn.metrics import confusion_matrix, ConfusionMatrixDisplay\n",
        "from sklearn.preprocessing import MinMaxScaler\n",
        "from sklearn.model_selection import train_test_split\n",
        "\n",
        "from sklearn.svm import SVC\n",
        "from sklearn.neighbors import KNeighborsClassifier\n",
        "from sklearn.ensemble import GradientBoostingClassifier\n",
        "from sklearn.decomposition import PCA\n",
        "\n",
        "import warnings\n",
        "warnings.filterwarnings(\"ignore\")"
      ]
    },
    {
      "cell_type": "markdown",
      "source": [
        "# Preprocessing"
      ],
      "metadata": {
        "id": "hgbzPgE6vrFO"
      }
    },
    {
      "cell_type": "code",
      "execution_count": 29,
      "metadata": {
        "id": "zJQzqW9dYald"
      },
      "outputs": [],
      "source": [
        "def preprocess_simple(hdf5_path):\n",
        "    \"\"\"\n",
        "    Simple preprocessing pipeline focusing on basic color enhancement\n",
        "    and quick processing time.\n",
        "\n",
        "    Args:\n",
        "        hdf5_path: Path to HDF5 file containing images and labels\n",
        "    Returns:\n",
        "        Train-test split of processed data and fitted scaler\n",
        "    \"\"\"\n",
        "    # Load data\n",
        "    with h5py.File(hdf5_path, 'r') as file:\n",
        "        images = np.array(file['images'])\n",
        "        labels = np.array(file['labels'])\n",
        "\n",
        "    processed_images = []\n",
        "    for image in images:\n",
        "        # Resize to smaller dimension for faster processing\n",
        "        image = cv2.resize(image, (256, 256))\n",
        "\n",
        "        # Convert to LAB color space\n",
        "        lab = cv2.cvtColor(image, cv2.COLOR_BGR2LAB)\n",
        "        l, a, b = cv2.split(lab)\n",
        "\n",
        "        # Apply CLAHE to L channel\n",
        "        clahe = cv2.createCLAHE(clipLimit=2.0, tileGridSize=(8,8))\n",
        "        enhanced_l = clahe.apply(l)\n",
        "\n",
        "        # Merge channels and convert back\n",
        "        enhanced_lab = cv2.merge([enhanced_l, a, b])\n",
        "        result = cv2.cvtColor(enhanced_lab, cv2.COLOR_LAB2BGR)\n",
        "\n",
        "        # Flatten for ML processing\n",
        "        processed_images.append(result.flatten())\n",
        "\n",
        "    # Convert to numpy array and scale\n",
        "    processed_images = np.array(processed_images)\n",
        "    scaler = MinMaxScaler()\n",
        "    images_scaled = scaler.fit_transform(processed_images)\n",
        "\n",
        "    # Split dataset\n",
        "    X_train, X_test, y_train, y_test = train_test_split(\n",
        "        images_scaled, labels,\n",
        "        test_size=0.25,\n",
        "        shuffle=True,\n",
        "        stratify=labels,\n",
        "        random_state=42\n",
        "    )\n",
        "\n",
        "    return X_train, X_test, y_train, y_test, scaler"
      ]
    },
    {
      "cell_type": "code",
      "execution_count": 30,
      "metadata": {
        "id": "YSSSb-Ggc2YI"
      },
      "outputs": [],
      "source": [
        "path = '/content/drive/MyDrive/TCV_Project/dataset.hdf5'"
      ]
    },
    {
      "cell_type": "code",
      "execution_count": 31,
      "metadata": {
        "id": "Tc_9TXC6YukS"
      },
      "outputs": [],
      "source": [
        "# Load and preprocess data\n",
        "X_train, X_test, y_train, y_test,scaler = preprocess_simple(path)"
      ]
    },
    {
      "cell_type": "markdown",
      "source": [
        "# PCA Training"
      ],
      "metadata": {
        "id": "SZ5PzNluRPs-"
      }
    },
    {
      "cell_type": "code",
      "source": [
        "# Apply PCA\n",
        "n_components = 50\n",
        "pca_c1 = PCA(n_components=n_components, svd_solver='randomized',\n",
        "          whiten=True).fit(X_train)\n",
        "\n",
        "\n",
        "pca_c1.fit(X_train, y_train)\n",
        "X_train_pca_1 = pca_c1.transform(X_train)\n",
        "X_test_pca_1 = pca_c1.transform(X_test)"
      ],
      "metadata": {
        "id": "eb6mlU9ro2Zv"
      },
      "execution_count": 32,
      "outputs": []
    },
    {
      "cell_type": "code",
      "source": [
        "plt.plot(np.cumsum(pca_c1.explained_variance_ratio_))\n",
        "plt.xlabel('number of components')\n",
        "plt.ylabel('cumulative explained variance');\n",
        "plt.show()"
      ],
      "metadata": {
        "colab": {
          "base_uri": "https://localhost:8080/",
          "height": 449
        },
        "id": "177nW72ItJ7k",
        "outputId": "efea86cd-11ce-4c40-c3ac-cd0242bf08df"
      },
      "execution_count": 33,
      "outputs": [
        {
          "output_type": "display_data",
          "data": {
            "text/plain": [
              "<Figure size 640x480 with 1 Axes>"
            ],
            "image/png": "[encoded data removed]"
          },
          "metadata": {}
        }
      ]
    },
    {
      "cell_type": "markdown",
      "source": [
        "# SVM Training"
      ],
      "metadata": {
        "id": "a1Qx1VGpRML2"
      }
    },
    {
      "cell_type": "code",
      "execution_count": 34,
      "metadata": {
        "colab": {
          "base_uri": "https://localhost:8080/"
        },
        "id": "8i6TrAZtf0pY",
        "outputId": "a00a43df-a7f5-4e58-954e-64765fc0d7e9"
      },
      "outputs": [
        {
          "output_type": "stream",
          "name": "stdout",
          "text": [
            "With Standard Function PCA(SVC)\n",
            "                      precision    recall  f1-score   support\n",
            "\n",
            "            b'Mixed'       1.00      0.00      0.00         4\n",
            "          b'Partial'       0.77      0.71      0.74        34\n",
            "              b'Raw'       0.92      0.94      0.93       188\n",
            "             b'Ripe'       0.85      0.92      0.88       127\n",
            "b'Rotten_or_Bruised'       0.74      0.61      0.67        38\n",
            "\n",
            "            accuracy                           0.87       391\n",
            "           macro avg       0.86      0.63      0.64       391\n",
            "        weighted avg       0.87      0.87      0.86       391\n",
            "\n"
          ]
        }
      ],
      "source": [
        "# With Standard Function PCA\n",
        "svc_classifier_pca_1 = SVC()\n",
        "svc_classifier_pca_1.fit(X_train_pca_1, y_train)\n",
        "y_pred_pca_svc = svc_classifier_pca_1.predict(X_test_pca_1)\n",
        "\n",
        "print(\"With Standard Function PCA(SVC)\")\n",
        "print(classification_report(y_test, y_pred_pca_svc, zero_division=1))"
      ]
    },
    {
      "cell_type": "code",
      "execution_count": 35,
      "metadata": {
        "id": "PTptHs2tgGOl",
        "colab": {
          "base_uri": "https://localhost:8080/",
          "height": 472
        },
        "outputId": "0972a813-d5cd-4ff8-ba3f-7c1b2df45d73"
      },
      "outputs": [
        {
          "output_type": "display_data",
          "data": {
            "text/plain": [
              "<Figure size 640x480 with 2 Axes>"
            ],
            "image/png": "[encoded data removed]"
          },
          "metadata": {}
        }
      ],
      "source": [
        "cm = confusion_matrix(y_test, y_pred_pca_svc)\n",
        "disp = ConfusionMatrixDisplay(confusion_matrix=cm)\n",
        "disp.plot()\n",
        "plt.title(\"Confusion Matrix (SVC)\")\n",
        "plt.savefig(\"Confusion Matrix(SVC).jpg\") # Save the plot\n",
        "plt.show()"
      ]
    },
    {
      "cell_type": "markdown",
      "source": [
        "# KNN Training"
      ],
      "metadata": {
        "id": "8-U5t1HmRHtZ"
      }
    },
    {
      "cell_type": "code",
      "source": [
        "# With Standard Function PCA\n",
        "knn_classifier_pca_std = KNeighborsClassifier(n_neighbors=5)\n",
        "knn_classifier_pca_std.fit(X_train_pca_1, y_train)\n",
        "y_pred_knn_pca_std = knn_classifier_pca_std.predict(X_test_pca_1)\n",
        "\n",
        "print(\"KNN Classification Report: pca_std\")\n",
        "print(classification_report(y_test, y_pred_knn_pca_std, zero_division=1))"
      ],
      "metadata": {
        "colab": {
          "base_uri": "https://localhost:8080/"
        },
        "id": "eiA7VeZesRVk",
        "outputId": "66591c9e-6e8b-4f17-f54a-6e65afdfcc63"
      },
      "execution_count": 36,
      "outputs": [
        {
          "output_type": "stream",
          "name": "stdout",
          "text": [
            "KNN Classification Report: pca_std\n",
            "                      precision    recall  f1-score   support\n",
            "\n",
            "            b'Mixed'       1.00      0.00      0.00         4\n",
            "          b'Partial'       0.47      0.68      0.55        34\n",
            "              b'Raw'       0.79      0.88      0.83       188\n",
            "             b'Ripe'       0.85      0.71      0.77       127\n",
            "b'Rotten_or_Bruised'       0.60      0.39      0.48        38\n",
            "\n",
            "            accuracy                           0.75       391\n",
            "           macro avg       0.74      0.53      0.53       391\n",
            "        weighted avg       0.76      0.75      0.75       391\n",
            "\n"
          ]
        }
      ]
    },
    {
      "cell_type": "code",
      "source": [
        "cm = confusion_matrix(y_test, y_pred_knn_pca_std)\n",
        "disp = ConfusionMatrixDisplay(confusion_matrix=cm)\n",
        "disp.plot()\n",
        "plt.title(\"Confusion Matrix (KNN)\")\n",
        "plt.savefig(\"Confusion Matrix(KNN).jpg\") # Save the plot\n",
        "plt.show()"
      ],
      "metadata": {
        "colab": {
          "base_uri": "https://localhost:8080/",
          "height": 472
        },
        "id": "mr0xk8brstQg",
        "outputId": "2bd1221f-1660-4a59-a7db-9b79e163cbc3"
      },
      "execution_count": 37,
      "outputs": [
        {
          "output_type": "display_data",
          "data": {
            "text/plain": [
              "<Figure size 640x480 with 2 Axes>"
            ],
            "image/png": "[encoded data removed]"
          },
          "metadata": {}
        }
      ]
    },
    {
      "cell_type": "markdown",
      "source": [
        "# XGBoost Training"
      ],
      "metadata": {
        "id": "wK7OO1SRRC5A"
      }
    },
    {
      "cell_type": "code",
      "source": [
        "# With Standard Function PCA\n",
        "xgboost_classifier_pca = GradientBoostingClassifier()\n",
        "xgboost_classifier_pca.fit(X_train_pca_1, y_train)\n",
        "y_pred_xgboost_pca = xgboost_classifier_pca.predict(X_test_pca_1)\n",
        "\n",
        "print(\"XGBoost Classification Report: pca_std\")\n",
        "print(classification_report(y_test, y_pred_xgboost_pca, zero_division=1))"
      ],
      "metadata": {
        "colab": {
          "base_uri": "https://localhost:8080/"
        },
        "id": "UCdm5kW4tAYK",
        "outputId": "29090515-1a92-46b3-c14a-1b3d27e75d3c"
      },
      "execution_count": 38,
      "outputs": [
        {
          "output_type": "stream",
          "name": "stdout",
          "text": [
            "XGBoost Classification Report: pca_std\n",
            "                      precision    recall  f1-score   support\n",
            "\n",
            "            b'Mixed'       0.50      0.25      0.33         4\n",
            "          b'Partial'       0.81      0.50      0.62        34\n",
            "              b'Raw'       0.87      0.93      0.90       188\n",
            "             b'Ripe'       0.84      0.94      0.89       127\n",
            "b'Rotten_or_Bruised'       0.67      0.42      0.52        38\n",
            "\n",
            "            accuracy                           0.84       391\n",
            "           macro avg       0.74      0.61      0.65       391\n",
            "        weighted avg       0.83      0.84      0.83       391\n",
            "\n"
          ]
        }
      ]
    },
    {
      "cell_type": "code",
      "source": [
        "cm = confusion_matrix(y_test, y_pred_xgboost_pca)\n",
        "disp = ConfusionMatrixDisplay(confusion_matrix=cm)\n",
        "disp.plot()\n",
        "plt.title(\"Confusion Matrix (XGBoost)\")\n",
        "plt.savefig(\"Confusion Matrix(XGBoost).jpg\") # Save the plot\n",
        "plt.show()"
      ],
      "metadata": {
        "colab": {
          "base_uri": "https://localhost:8080/",
          "height": 472
        },
        "id": "-yHlxszetT2p",
        "outputId": "8e319787-eed1-4e47-867d-339aced8f065"
      },
      "execution_count": 39,
      "outputs": [
        {
          "output_type": "display_data",
          "data": {
            "text/plain": [
              "<Figure size 640x480 with 2 Axes>"
            ],
            "image/png": "[encoded data removed]"
          },
          "metadata": {}
        }
      ]
    },
    {
      "cell_type": "markdown",
      "source": [
        "# Test The Best Model So Far"
      ],
      "metadata": {
        "id": "xhDlr1Bft9VA"
      }
    },
    {
      "cell_type": "code",
      "source": [
        "def preprocess_single_image(image_path, scaler):\n",
        "    \"\"\"\n",
        "    Preprocesses a single image: resizing, color enhancement, and scaling.\n",
        "    \"\"\"\n",
        "    try:\n",
        "        # Load image\n",
        "        image = cv2.imread(image_path)\n",
        "        if image is None:\n",
        "            raise FileNotFoundError(f\"Image not found at {image_path}\")\n",
        "\n",
        "        # Resize to 256x256\n",
        "        image = cv2.resize(image, (256, 256))\n",
        "\n",
        "        # Convert to LAB color space\n",
        "        lab = cv2.cvtColor(image, cv2.COLOR_BGR2LAB)\n",
        "        l, a, b = cv2.split(lab)\n",
        "\n",
        "        # Apply CLAHE to L channel\n",
        "        clahe = cv2.createCLAHE(clipLimit=2.0, tileGridSize=(8,8))\n",
        "        enhanced_l = clahe.apply(l)\n",
        "\n",
        "        # Merge channels and convert back to BGR\n",
        "        enhanced_lab = cv2.merge([enhanced_l, a, b])\n",
        "        processed_image = cv2.cvtColor(enhanced_lab, cv2.COLOR_LAB2BGR)\n",
        "\n",
        "        # Flatten and scale\n",
        "        flattened = processed_image.flatten().reshape(1, -1)\n",
        "        scaled_image = scaler.transform(flattened)\n",
        "\n",
        "        return scaled_image\n",
        "\n",
        "    except FileNotFoundError as e:\n",
        "        print(e)\n",
        "        return None\n",
        "    except Exception as e:\n",
        "        print(f\"An error occurred during preprocessing: {e}\")\n",
        "        return None"
      ],
      "metadata": {
        "id": "XClgmjsGt8Bz"
      },
      "execution_count": 40,
      "outputs": []
    },
    {
      "cell_type": "code",
      "source": [
        "def predict_image_level(image_path, pca_model, svc_model, scaler):\n",
        "    \"\"\"\n",
        "    Predicts the class of a single image using a trained PCA and SVC model.\n",
        "    \"\"\"\n",
        "    try:\n",
        "        # Preprocess the image\n",
        "        preprocessed_image = preprocess_single_image(image_path, scaler)\n",
        "        if preprocessed_image is None:\n",
        "            return None\n",
        "\n",
        "        # Apply PCA transformation\n",
        "        pca_image = pca_model.transform(preprocessed_image)\n",
        "\n",
        "        # Predict using the SVC model\n",
        "        predicted_class = svc_model.predict(pca_image)\n",
        "\n",
        "        return predicted_class[0]\n",
        "\n",
        "    except Exception as e:\n",
        "        print(f\"An error occurred: {e}\")\n",
        "        return None"
      ],
      "metadata": {
        "id": "Vq0T8u-OI9hd"
      },
      "execution_count": 41,
      "outputs": []
    },
    {
      "cell_type": "code",
      "source": [
        "# Example usage\n",
        "image_path = '/content/Ripe_Test.jpg'  # Replace with your image path\n",
        "\n",
        "predicted_level = predict_image_level(image_path, pca_c1, svc_classifier_pca_1,scaler)\n",
        "\n",
        "if predicted_level is not None:\n",
        "    print(f\"The predicted level for the image is: {predicted_level}\")"
      ],
      "metadata": {
        "colab": {
          "base_uri": "https://localhost:8080/"
        },
        "id": "gSlSxhkfI9kX",
        "outputId": "38096d0d-1d26-49e7-bacd-6391973c46e1"
      },
      "execution_count": 48,
      "outputs": [
        {
          "output_type": "stream",
          "name": "stdout",
          "text": [
            "The predicted level for the image is: b'Ripe'\n"
          ]
        }
      ]
    },
    {
      "cell_type": "code",
      "source": [
        "# Example usage\n",
        "image_path = '/content/Mixed_Test.jpg'  # Replace with your image path\n",
        "\n",
        "predicted_level = predict_image_level(image_path, pca_c1, svc_classifier_pca_1,scaler)\n",
        "\n",
        "if predicted_level is not None:\n",
        "    print(f\"The predicted level for the image is: {predicted_level}\")"
      ],
      "metadata": {
        "colab": {
          "base_uri": "https://localhost:8080/"
        },
        "id": "dJbiONM5I9nU",
        "outputId": "1daa62f5-81bd-4810-af97-93c04f702fcb"
      },
      "execution_count": 49,
      "outputs": [
        {
          "output_type": "stream",
          "name": "stdout",
          "text": [
            "The predicted level for the image is: b'Mixed'\n"
          ]
        }
      ]
    },
    {
      "cell_type": "code",
      "source": [
        "# Example usage\n",
        "image_path = '/content/Rotten_Test.jpg'  # Replace with your image path\n",
        "\n",
        "predicted_level = predict_image_level(image_path, pca_c1, svc_classifier_pca_1,scaler)\n",
        "\n",
        "if predicted_level is not None:\n",
        "    print(f\"The predicted level for the image is: {predicted_level}\")"
      ],
      "metadata": {
        "colab": {
          "base_uri": "https://localhost:8080/"
        },
        "id": "f470L9TUJA1u",
        "outputId": "c9dc7ca8-fa82-4b18-c3a6-6384f8f2cf12"
      },
      "execution_count": 52,
      "outputs": [
        {
          "output_type": "stream",
          "name": "stdout",
          "text": [
            "The predicted level for the image is: b'Rotten_or_Bruised'\n"
          ]
        }
      ]
    },
    {
      "cell_type": "code",
      "source": [
        "# Example usage\n",
        "image_path = '/content/Raw_Test.jpg'  # Replace with your image path\n",
        "\n",
        "predicted_level = predict_image_level(image_path, pca_c1, svc_classifier_pca_1,scaler)\n",
        "\n",
        "if predicted_level is not None:\n",
        "    print(f\"The predicted level for the image is: {predicted_level}\")"
      ],
      "metadata": {
        "colab": {
          "base_uri": "https://localhost:8080/"
        },
        "id": "wg4bQE6RJA7p",
        "outputId": "54ea0a44-2160-4fb7-fae7-be1a0628127f"
      },
      "execution_count": 53,
      "outputs": [
        {
          "output_type": "stream",
          "name": "stdout",
          "text": [
            "The predicted level for the image is: b'Raw'\n"
          ]
        }
      ]
    },
    {
      "cell_type": "code",
      "source": [
        "# Example usage\n",
        "image_path = '/content/Partial_Test.jpg'  # Replace with your image path\n",
        "\n",
        "predicted_level = predict_image_level(image_path, pca_c1, svc_classifier_pca_1,scaler)\n",
        "\n",
        "if predicted_level is not None:\n",
        "    print(f\"The predicted level for the image is: {predicted_level}\")"
      ],
      "metadata": {
        "colab": {
          "base_uri": "https://localhost:8080/"
        },
        "id": "WObThJpdJA46",
        "outputId": "8bfc56aa-a547-4ecb-b143-ef63b5b33ae5"
      },
      "execution_count": 58,
      "outputs": [
        {
          "output_type": "stream",
          "name": "stdout",
          "text": [
            "The predicted level for the image is: b'Ripe'\n"
          ]
        }
      ]
    },
    {
      "cell_type": "code",
      "source": [],
      "metadata": {
        "id": "dORmGbs8QMkA"
      },
      "execution_count": null,
      "outputs": []
    },
    {
      "cell_type": "code",
      "source": [],
      "metadata": {
        "id": "XgxyLqihQMwE"
      },
      "execution_count": null,
      "outputs": []
    },
    {
      "cell_type": "markdown",
      "source": [
        "# Import The model"
      ],
      "metadata": {
        "id": "6k6efizrQ1TU"
      }
    },
    {
      "cell_type": "code",
      "source": [
        "import joblib\n",
        "import pickle\n",
        "\n",
        "# Save the scikit-learn model\n",
        "\n",
        "pickle.dump(pca_c1, open('Image_Classifier_pca_c1.pkl','wb'))\n",
        "pickle.dump(svc_classifier_pca_1, open('Image_Classifier_SVC_1.pkl','wb'))\n",
        "pickle.dump(knn_classifier_pca_std, open('Image_Classifier_KNN_1.pkl','wb'))\n",
        "pickle.dump(xgboost_classifier_pca, open('Image_Classifier_XGBoost_1.pkl','wb'))"
      ],
      "metadata": {
        "id": "TxbkHuozQMzt"
      },
      "execution_count": 59,
      "outputs": []
    },
    {
      "cell_type": "code",
      "source": [
        "# Save Function\n",
        "\n",
        "pickle.dump(scaler, open('scaler.pkl', 'wb'))\n",
        "pickle.dump(preprocess_single_image, open('preprocess_single_image.pkl', 'wb'))\n",
        "pickle.dump(predict_image_level, open('predict_image_level.pkl', 'wb'))"
      ],
      "metadata": {
        "id": "al0mivlvR12y"
      },
      "execution_count": 60,
      "outputs": []
    }
  ],
  "metadata": {
    "colab": {
      "provenance": [],
      "gpuType": "T4",
      "collapsed_sections": [
        "a1Qx1VGpRML2",
        "8-U5t1HmRHtZ",
        "wK7OO1SRRC5A"
      ],
      "include_colab_link": true
    },
    "kernelspec": {
      "display_name": "Python 3",
      "name": "python3"
    },
    "language_info": {
      "name": "python"
    },
    "accelerator": "GPU"
  },
  "nbformat": 4,
  "nbformat_minor": 0
}