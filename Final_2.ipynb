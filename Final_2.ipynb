{
  "cells": [
    {
      "cell_type": "markdown",
      "metadata": {
        "id": "view-in-github",
        "colab_type": "text"
      },
      "source": [
        "<a href=\"https://colab.research.google.com/github/TahmidaMajumder/TCV_Project/blob/main/Final_2.ipynb\" target=\"_parent\"><img src=\"https://colab.research.google.com/assets/colab-badge.svg\" alt=\"Open In Colab\"/></a>"
      ]
    },
    {
      "cell_type": "code",
      "execution_count": 1,
      "metadata": {
        "colab": {
          "base_uri": "https://localhost:8080/"
        },
        "id": "uFY1ZEjA5JGG",
        "outputId": "9a32810c-65af-41e2-9111-9c1b7f7f1133"
      },
      "outputs": [
        {
          "output_type": "stream",
          "name": "stdout",
          "text": [
            "Mounted at /content/drive\n"
          ]
        }
      ],
      "source": [
        "from google.colab import drive\n",
        "drive.mount('/content/drive')"
      ]
    },
    {
      "cell_type": "markdown",
      "source": [
        "# 1. Import Libraries"
      ],
      "metadata": {
        "id": "VQoqdVyxvkXA"
      }
    },
    {
      "cell_type": "code",
      "execution_count": 3,
      "metadata": {
        "id": "U-U3vZOFKYRH"
      },
      "outputs": [],
      "source": [
        "import os\n",
        "import h5py\n",
        "import cv2\n",
        "import numpy as np\n",
        "import matplotlib.pyplot as plt\n",
        "from PIL import Image\n",
        "import seaborn as sns\n",
        "import h5py\n",
        "\n",
        "from sklearn.metrics import confusion_matrix, classification_report\n",
        "from sklearn.metrics import confusion_matrix, ConfusionMatrixDisplay\n",
        "from sklearn.preprocessing import MinMaxScaler, StandardScaler\n",
        "from sklearn.model_selection import train_test_split\n",
        "\n",
        "from sklearn.svm import SVC\n",
        "from sklearn.neighbors import KNeighborsClassifier\n",
        "from sklearn.ensemble import GradientBoostingClassifier\n",
        "from sklearn.decomposition import PCA\n",
        "\n",
        "import warnings\n",
        "warnings.filterwarnings(\"ignore\")"
      ]
    },
    {
      "cell_type": "markdown",
      "source": [
        "# Preprocessing"
      ],
      "metadata": {
        "id": "hgbzPgE6vrFO"
      }
    },
    {
      "cell_type": "code",
      "execution_count": 4,
      "metadata": {
        "id": "zJQzqW9dYald"
      },
      "outputs": [],
      "source": [
        "def preprocess_medium(hdf5_path):\n",
        "    # Load data\n",
        "    with h5py.File(hdf5_path, 'r') as file:\n",
        "        images = np.array(file['images'])\n",
        "        labels = np.array(file['labels'])\n",
        "\n",
        "    processed_images = []\n",
        "    for image in images:\n",
        "        # Resize for consistency\n",
        "        image = cv2.resize(image, (256, 256))\n",
        "\n",
        "        # Denoise with bilateral filter\n",
        "        denoised = cv2.bilateralFilter(image, 9, 75, 75)\n",
        "\n",
        "        # Convert to HSV for color enhancement\n",
        "        hsv = cv2.cvtColor(denoised, cv2.COLOR_BGR2HSV)\n",
        "        h, s, v = cv2.split(hsv)\n",
        "\n",
        "        # Enhance saturation\n",
        "        s = cv2.add(s, 30)\n",
        "\n",
        "        # Enhance value channel with CLAHE\n",
        "        clahe = cv2.createCLAHE(clipLimit=3.0, tileGridSize=(8,8))\n",
        "        v = clahe.apply(v)\n",
        "\n",
        "        # Merge and convert back\n",
        "        enhanced_hsv = cv2.merge([h, s, v])\n",
        "        result = cv2.cvtColor(enhanced_hsv, cv2.COLOR_HSV2BGR)\n",
        "\n",
        "        # Apply sharpening\n",
        "        kernel = np.array([[-1,-1,-1], [-1,9,-1], [-1,-1,-1]])\n",
        "        sharpened = cv2.filter2D(result, -1, kernel)\n",
        "\n",
        "        processed_images.append(sharpened.flatten())\n",
        "\n",
        "    # Convert to numpy array and standardize\n",
        "    processed_images = np.array(processed_images)\n",
        "    scaler = StandardScaler()\n",
        "    images_scaled = scaler.fit_transform(processed_images)\n",
        "\n",
        "    # Split dataset\n",
        "    X_train, X_test, y_train, y_test = train_test_split(\n",
        "        images_scaled, labels,\n",
        "        test_size=0.25,\n",
        "        shuffle=True,\n",
        "        stratify=labels,\n",
        "        random_state=42\n",
        "    )\n",
        "\n",
        "    return X_train, X_test, y_train, y_test, scaler"
      ]
    },
    {
      "cell_type": "code",
      "execution_count": 5,
      "metadata": {
        "id": "YSSSb-Ggc2YI"
      },
      "outputs": [],
      "source": [
        "path = '/content/drive/MyDrive/TCV_Project/dataset.hdf5'"
      ]
    },
    {
      "cell_type": "code",
      "execution_count": 6,
      "metadata": {
        "id": "Tc_9TXC6YukS"
      },
      "outputs": [],
      "source": [
        "# Load and preprocess data\n",
        "X_train, X_test, y_train, y_test,scaler = preprocess_medium(path)"
      ]
    },
    {
      "cell_type": "markdown",
      "source": [
        "# PCA Training"
      ],
      "metadata": {
        "id": "SZ5PzNluRPs-"
      }
    },
    {
      "cell_type": "code",
      "source": [
        "# Apply PCA\n",
        "n_components = 70\n",
        "pca_c2 = PCA(n_components=n_components, svd_solver='randomized',\n",
        "          whiten=True).fit(X_train)\n",
        "\n",
        "\n",
        "pca_c2.fit(X_train, y_train)\n",
        "X_train_pca_2 = pca_c2.transform(X_train)\n",
        "X_test_pca_2 = pca_c2.transform(X_test)"
      ],
      "metadata": {
        "id": "eb6mlU9ro2Zv"
      },
      "execution_count": 9,
      "outputs": []
    },
    {
      "cell_type": "code",
      "source": [
        "plt.plot(np.cumsum(pca_c2.explained_variance_ratio_))\n",
        "plt.xlabel('number of components')\n",
        "plt.ylabel('cumulative explained variance');\n",
        "plt.show()"
      ],
      "metadata": {
        "colab": {
          "base_uri": "https://localhost:8080/",
          "height": 449
        },
        "id": "177nW72ItJ7k",
        "outputId": "34c568ee-b481-4ab0-b625-1c36104bea7a"
      },
      "execution_count": 10,
      "outputs": [
        {
          "output_type": "display_data",
          "data": {
            "text/plain": [
              "<Figure size 640x480 with 1 Axes>"
            ],
            "image/png": "[encoded data removed]"
          },
          "metadata": {}
        }
      ]
    },
    {
      "cell_type": "markdown",
      "source": [
        "# SVM Training"
      ],
      "metadata": {
        "id": "a1Qx1VGpRML2"
      }
    },
    {
      "cell_type": "code",
      "execution_count": 11,
      "metadata": {
        "colab": {
          "base_uri": "https://localhost:8080/"
        },
        "id": "8i6TrAZtf0pY",
        "outputId": "00eddb80-8622-4a20-8449-d67215bc754d"
      },
      "outputs": [
        {
          "output_type": "stream",
          "name": "stdout",
          "text": [
            "With Standard Function PCA(SVC)\n",
            "                      precision    recall  f1-score   support\n",
            "\n",
            "            b'Mixed'       1.00      0.00      0.00         4\n",
            "          b'Partial'       0.83      0.71      0.76        34\n",
            "              b'Raw'       0.91      0.91      0.91       188\n",
            "             b'Ripe'       0.82      0.92      0.87       127\n",
            "b'Rotten_or_Bruised'       0.73      0.58      0.65        38\n",
            "\n",
            "            accuracy                           0.86       391\n",
            "           macro avg       0.86      0.62      0.64       391\n",
            "        weighted avg       0.86      0.86      0.85       391\n",
            "\n"
          ]
        }
      ],
      "source": [
        "# With Standard Function PCA\n",
        "svc_classifier_pca_2 = SVC()\n",
        "svc_classifier_pca_2.fit(X_train_pca_2, y_train)\n",
        "y_pred_pca_svc = svc_classifier_pca_2.predict(X_test_pca_2)\n",
        "\n",
        "print(\"With Standard Function PCA(SVC)\")\n",
        "print(classification_report(y_test, y_pred_pca_svc, zero_division=1))"
      ]
    },
    {
      "cell_type": "code",
      "execution_count": 12,
      "metadata": {
        "id": "PTptHs2tgGOl",
        "colab": {
          "base_uri": "https://localhost:8080/",
          "height": 472
        },
        "outputId": "0f5b8c1e-d883-4f99-e4f7-39fef043f9cb"
      },
      "outputs": [
        {
          "output_type": "display_data",
          "data": {
            "text/plain": [
              "<Figure size 640x480 with 2 Axes>"
            ],
            "image/png": "[encoded data removed]"
          },
          "metadata": {}
        }
      ],
      "source": [
        "cm = confusion_matrix(y_test, y_pred_pca_svc)\n",
        "disp = ConfusionMatrixDisplay(confusion_matrix=cm)\n",
        "disp.plot()\n",
        "plt.title(\"Confusion Matrix (SVC)\")\n",
        "plt.savefig(\"Confusion Matrix(SVC).jpg\") # Save the plot\n",
        "plt.show()"
      ]
    },
    {
      "cell_type": "markdown",
      "source": [
        "# KNN Training"
      ],
      "metadata": {
        "id": "8-U5t1HmRHtZ"
      }
    },
    {
      "cell_type": "code",
      "source": [
        "# With Standard Function PCA\n",
        "knn_classifier_pca_2 = KNeighborsClassifier(n_neighbors=5)\n",
        "knn_classifier_pca_2.fit(X_train_pca_2, y_train)\n",
        "y_pred_knn_pca_2 = knn_classifier_pca_2.predict(X_test_pca_2)\n",
        "\n",
        "print(\"KNN Classification Report: pca_std\")\n",
        "print(classification_report(y_test, y_pred_knn_pca_2, zero_division=1))"
      ],
      "metadata": {
        "colab": {
          "base_uri": "https://localhost:8080/"
        },
        "id": "eiA7VeZesRVk",
        "outputId": "98e1ca15-3bf1-432a-a839-faad89de55d9"
      },
      "execution_count": 13,
      "outputs": [
        {
          "output_type": "stream",
          "name": "stdout",
          "text": [
            "KNN Classification Report: pca_std\n",
            "                      precision    recall  f1-score   support\n",
            "\n",
            "            b'Mixed'       1.00      0.00      0.00         4\n",
            "          b'Partial'       0.47      0.79      0.59        34\n",
            "              b'Raw'       0.79      0.89      0.83       188\n",
            "             b'Ripe'       0.85      0.65      0.74       127\n",
            "b'Rotten_or_Bruised'       0.70      0.42      0.52        38\n",
            "\n",
            "            accuracy                           0.75       391\n",
            "           macro avg       0.76      0.55      0.54       391\n",
            "        weighted avg       0.77      0.75      0.74       391\n",
            "\n"
          ]
        }
      ]
    },
    {
      "cell_type": "code",
      "source": [
        "cm = confusion_matrix(y_test, y_pred_knn_pca_2)\n",
        "disp = ConfusionMatrixDisplay(confusion_matrix=cm)\n",
        "disp.plot()\n",
        "plt.title(\"Confusion Matrix (KNN)\")\n",
        "plt.savefig(\"Confusion Matrix(KNN).jpg\") # Save the plot\n",
        "plt.show()"
      ],
      "metadata": {
        "colab": {
          "base_uri": "https://localhost:8080/",
          "height": 472
        },
        "id": "mr0xk8brstQg",
        "outputId": "28afe679-fa27-44e4-e04a-98d184d918d0"
      },
      "execution_count": 14,
      "outputs": [
        {
          "output_type": "display_data",
          "data": {
            "text/plain": [
              "<Figure size 640x480 with 2 Axes>"
            ],
            "image/png": "[encoded data removed]"
          },
          "metadata": {}
        }
      ]
    },
    {
      "cell_type": "markdown",
      "source": [
        "# XGBoost Training"
      ],
      "metadata": {
        "id": "wK7OO1SRRC5A"
      }
    },
    {
      "cell_type": "code",
      "source": [
        "# With Standard Function PCA\n",
        "xgboost_classifier_pca_2 = GradientBoostingClassifier()\n",
        "xgboost_classifier_pca_2.fit(X_train_pca_2, y_train)\n",
        "y_pred_xgboost_pca_2 = xgboost_classifier_pca_2.predict(X_test_pca_2)\n",
        "\n",
        "print(\"XGBoost Classification Report: pca_std\")\n",
        "print(classification_report(y_test, y_pred_xgboost_pca_2, zero_division=1))"
      ],
      "metadata": {
        "colab": {
          "base_uri": "https://localhost:8080/"
        },
        "id": "UCdm5kW4tAYK",
        "outputId": "48593b2c-2a69-4d2c-d544-0f3323ce2522"
      },
      "execution_count": 15,
      "outputs": [
        {
          "output_type": "stream",
          "name": "stdout",
          "text": [
            "XGBoost Classification Report: pca_std\n",
            "                      precision    recall  f1-score   support\n",
            "\n",
            "            b'Mixed'       0.00      0.00      0.00         4\n",
            "          b'Partial'       0.83      0.59      0.69        34\n",
            "              b'Raw'       0.90      0.95      0.93       188\n",
            "             b'Ripe'       0.85      0.91      0.87       127\n",
            "b'Rotten_or_Bruised'       0.74      0.61      0.67        38\n",
            "\n",
            "            accuracy                           0.86       391\n",
            "           macro avg       0.66      0.61      0.63       391\n",
            "        weighted avg       0.85      0.86      0.85       391\n",
            "\n"
          ]
        }
      ]
    },
    {
      "cell_type": "code",
      "source": [
        "cm = confusion_matrix(y_test, y_pred_xgboost_pca_2)\n",
        "disp = ConfusionMatrixDisplay(confusion_matrix=cm)\n",
        "disp.plot()\n",
        "plt.title(\"Confusion Matrix (XGBoost)\")\n",
        "plt.savefig(\"Confusion Matrix(XGBoost).jpg\") # Save the plot\n",
        "plt.show()"
      ],
      "metadata": {
        "colab": {
          "base_uri": "https://localhost:8080/",
          "height": 472
        },
        "id": "-yHlxszetT2p",
        "outputId": "badd6e6b-c579-47a2-bf1c-66dc98257d14"
      },
      "execution_count": 16,
      "outputs": [
        {
          "output_type": "display_data",
          "data": {
            "text/plain": [
              "<Figure size 640x480 with 2 Axes>"
            ],
            "image/png": "[encoded data removed]"
          },
          "metadata": {}
        }
      ]
    },
    {
      "cell_type": "markdown",
      "source": [
        "# Test The Best Model So Far"
      ],
      "metadata": {
        "id": "xhDlr1Bft9VA"
      }
    },
    {
      "cell_type": "code",
      "source": [
        "def preprocess_single_image(image_path, scaler):\n",
        "\n",
        "    image = cv2.imread(image_path)\n",
        "\n",
        "    image = cv2.resize(image, (256, 256))\n",
        "\n",
        "    # Denoise with bilateral filter\n",
        "    denoised = cv2.bilateralFilter(image, 9, 75, 75)\n",
        "\n",
        "    # Convert to HSV for color enhancement\n",
        "    hsv = cv2.cvtColor(denoised, cv2.COLOR_BGR2HSV)\n",
        "    h, s, v = cv2.split(hsv)\n",
        "\n",
        "    # Enhance saturation\n",
        "    s = cv2.add(s, 30)\n",
        "\n",
        "    # Enhance value channel with CLAHE\n",
        "    clahe = cv2.createCLAHE(clipLimit=3.0, tileGridSize=(8,8))\n",
        "    v = clahe.apply(v)\n",
        "\n",
        "    # Merge and convert back\n",
        "    enhanced_hsv = cv2.merge([h, s, v])\n",
        "    result = cv2.cvtColor(enhanced_hsv, cv2.COLOR_HSV2BGR)\n",
        "\n",
        "    # Apply sharpening\n",
        "    kernel = np.array([[-1,-1,-1], [-1,9,-1], [-1,-1,-1]])\n",
        "    sharpened = cv2.filter2D(result, -1, kernel)\n",
        "\n",
        "    # Flatten and standardize\n",
        "    processed_image = sharpened.flatten()\n",
        "    processed_image = scaler.transform([processed_image])\n",
        "\n",
        "    return processed_image\n"
      ],
      "metadata": {
        "id": "L5V7whtrX4qg"
      },
      "execution_count": 17,
      "outputs": []
    },
    {
      "cell_type": "code",
      "source": [
        "def predict_image_level(image_path, pca_model, svc_model, scaler):\n",
        "    \"\"\"\n",
        "    Predicts the class of a single image using a trained PCA and SVC model.\n",
        "    \"\"\"\n",
        "    try:\n",
        "        # Preprocess the image\n",
        "        preprocessed_image = preprocess_single_image(image_path, scaler)\n",
        "        if preprocessed_image is None:\n",
        "            return None\n",
        "\n",
        "        # Apply PCA transformation\n",
        "        pca_image = pca_model.transform(preprocessed_image)\n",
        "\n",
        "        # Predict using the SVC model\n",
        "        predicted_class = svc_model.predict(pca_image)\n",
        "\n",
        "        return predicted_class[0]\n",
        "\n",
        "    except Exception as e:\n",
        "        print(f\"An error occurred: {e}\")\n",
        "        return None"
      ],
      "metadata": {
        "id": "Vq0T8u-OI9hd"
      },
      "execution_count": 18,
      "outputs": []
    },
    {
      "cell_type": "code",
      "source": [
        "# Example usage\n",
        "image_path = '/content/Ripe_Test.jpg'  # Replace with your image path\n",
        "\n",
        "predicted_level = predict_image_level(image_path, pca_c2, svc_classifier_pca_2,scaler)\n",
        "\n",
        "if predicted_level is not None:\n",
        "    print(f\"The predicted level for the image is: {predicted_level}\")"
      ],
      "metadata": {
        "colab": {
          "base_uri": "https://localhost:8080/"
        },
        "id": "gSlSxhkfI9kX",
        "outputId": "4606d715-19a3-4aa4-cee4-ca6bb7598372"
      },
      "execution_count": 25,
      "outputs": [
        {
          "output_type": "stream",
          "name": "stdout",
          "text": [
            "The predicted level for the image is: b'Ripe'\n"
          ]
        }
      ]
    },
    {
      "cell_type": "code",
      "source": [
        "# Example usage\n",
        "image_path = '/content/Mixed_Test.jpg'  # Replace with your image path\n",
        "\n",
        "predicted_level = predict_image_level(image_path, pca_c2, svc_classifier_pca_2,scaler)\n",
        "\n",
        "if predicted_level is not None:\n",
        "    print(f\"The predicted level for the image is: {predicted_level}\")"
      ],
      "metadata": {
        "colab": {
          "base_uri": "https://localhost:8080/"
        },
        "id": "dJbiONM5I9nU",
        "outputId": "398a98c7-6f74-4e78-ad50-213ca6d43eae"
      },
      "execution_count": 26,
      "outputs": [
        {
          "output_type": "stream",
          "name": "stdout",
          "text": [
            "The predicted level for the image is: b'Mixed'\n"
          ]
        }
      ]
    },
    {
      "cell_type": "code",
      "source": [
        "# Example usage\n",
        "image_path = '/content/Rotten_Test.jpg'  # Replace with your image path\n",
        "\n",
        "predicted_level = predict_image_level(image_path, pca_c2, svc_classifier_pca_2,scaler)\n",
        "\n",
        "if predicted_level is not None:\n",
        "    print(f\"The predicted level for the image is: {predicted_level}\")"
      ],
      "metadata": {
        "colab": {
          "base_uri": "https://localhost:8080/"
        },
        "id": "f470L9TUJA1u",
        "outputId": "f3568b01-7c7a-46e6-a286-02e4a03bd6e4"
      },
      "execution_count": 27,
      "outputs": [
        {
          "output_type": "stream",
          "name": "stdout",
          "text": [
            "The predicted level for the image is: b'Rotten_or_Bruised'\n"
          ]
        }
      ]
    },
    {
      "cell_type": "code",
      "source": [
        "# Example usage\n",
        "image_path = '/content/Raw_Test.jpg'  # Replace with your image path\n",
        "\n",
        "predicted_level = predict_image_level(image_path, pca_c2, svc_classifier_pca_2,scaler)\n",
        "\n",
        "if predicted_level is not None:\n",
        "    print(f\"The predicted level for the image is: {predicted_level}\")"
      ],
      "metadata": {
        "colab": {
          "base_uri": "https://localhost:8080/"
        },
        "id": "wg4bQE6RJA7p",
        "outputId": "948b8d7a-cdf9-4f4a-fde4-fc1c32bc1417"
      },
      "execution_count": 28,
      "outputs": [
        {
          "output_type": "stream",
          "name": "stdout",
          "text": [
            "The predicted level for the image is: b'Raw'\n"
          ]
        }
      ]
    },
    {
      "cell_type": "code",
      "source": [
        "# Example usage\n",
        "image_path = '/content/Partial_Test.jpg'  # Replace with your image path\n",
        "\n",
        "predicted_level = predict_image_level(image_path, pca_c2, svc_classifier_pca_2,scaler)\n",
        "\n",
        "if predicted_level is not None:\n",
        "    print(f\"The predicted level for the image is: {predicted_level}\")"
      ],
      "metadata": {
        "colab": {
          "base_uri": "https://localhost:8080/"
        },
        "id": "WObThJpdJA46",
        "outputId": "3ce1ad07-40a8-4e1b-9038-8519bea3cd1e"
      },
      "execution_count": 29,
      "outputs": [
        {
          "output_type": "stream",
          "name": "stdout",
          "text": [
            "The predicted level for the image is: b'Ripe'\n"
          ]
        }
      ]
    },
    {
      "cell_type": "code",
      "source": [],
      "metadata": {
        "id": "dORmGbs8QMkA"
      },
      "execution_count": null,
      "outputs": []
    },
    {
      "cell_type": "code",
      "source": [],
      "metadata": {
        "id": "XgxyLqihQMwE"
      },
      "execution_count": null,
      "outputs": []
    },
    {
      "cell_type": "markdown",
      "source": [
        "# Import The model"
      ],
      "metadata": {
        "id": "6k6efizrQ1TU"
      }
    },
    {
      "cell_type": "code",
      "source": [
        "import joblib\n",
        "import pickle\n",
        "\n",
        "# Save the scikit-learn model\n",
        "\n",
        "pickle.dump(pca_c2, open('Image_Classifier_pca_c2.pkl','wb'))\n",
        "pickle.dump(svc_classifier_pca_2, open('Image_Classifier_SVC_2.pkl','wb'))\n",
        "pickle.dump(knn_classifier_pca_2, open('Image_Classifier_KNN_2.pkl','wb'))\n",
        "pickle.dump(xgboost_classifier_pca_2, open('Image_Classifier_XGBoost_2.pkl','wb'))"
      ],
      "metadata": {
        "id": "TxbkHuozQMzt"
      },
      "execution_count": 30,
      "outputs": []
    },
    {
      "cell_type": "code",
      "source": [
        "# Save Function\n",
        "\n",
        "pickle.dump(scaler, open('scaler_2.pkl', 'wb'))\n",
        "pickle.dump(preprocess_single_image, open('preprocess_single_image_2.pkl', 'wb'))"
      ],
      "metadata": {
        "id": "al0mivlvR12y"
      },
      "execution_count": 31,
      "outputs": []
    }
  ],
  "metadata": {
    "colab": {
      "provenance": [],
      "gpuType": "T4",
      "include_colab_link": true
    },
    "kernelspec": {
      "display_name": "Python 3",
      "name": "python3"
    },
    "language_info": {
      "name": "python"
    },
    "accelerator": "GPU"
  },
  "nbformat": 4,
  "nbformat_minor": 0
}